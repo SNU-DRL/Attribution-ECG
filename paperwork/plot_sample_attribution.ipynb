{
 "cells": [
  {
   "cell_type": "code",
   "execution_count": null,
   "metadata": {},
   "outputs": [],
   "source": [
    "import argparse\n",
    "import pickle\n",
    "import gzip\n",
    "import os\n",
    "import torch\n",
    "\n",
    "import numpy as np\n",
    "import matplotlib.pyplot as plt\n",
    "\n",
    "from src.utils import LABEL_MAPPING\n",
    "from src.setup import setup\n",
    "from src.utils import preprocess, get_beat_spans"
   ]
  },
  {
   "cell_type": "code",
   "execution_count": null,
   "metadata": {},
   "outputs": [],
   "source": [
    "ATTR_FIGSIZE = (20, 5)\n",
    "ECG_COLOR = \"darkblue\"\n",
    "ECG_LW = 3\n",
    "ATTR_COLOR = \"crimson\"\n",
    "ATTR_ALPHA = 0.55\n",
    "ATTR_LW = 4\n",
    "\n",
    "\n",
    "def get_plot_range(min_value, max_value, coff=1):\n",
    "    baseline_value = (min_value + max_value) / 2\n",
    "    amplitude = max_value - baseline_value\n",
    "    plot_range = (baseline_value - amplitude * coff, baseline_value + amplitude * coff)\n",
    "    return plot_range\n",
    "    \n",
    "\n",
    "def plot_attribution(x, y, beat_spans, prob, attr_x, dataset, path=None):\n",
    "    label_index = LABEL_MAPPING[dataset][\"LABEL_INDEX\"]\n",
    "    fig, ax1 = plt.subplots(figsize=ATTR_FIGSIZE)\n",
    "    ax2 = ax1.twinx()\n",
    "\n",
    "    # ECG\n",
    "    ecg_yrange = get_plot_range(np.min(x), np.max(x), 1.55)\n",
    "    ax1.set_ylim(*ecg_yrange)\n",
    "    ax1.plot(x.squeeze(), c=ECG_COLOR, linewidth=ECG_LW)\n",
    "    # ax1.set_ylabel(\"ECG signal\", color=ECG_COLOR)\n",
    "    ax1.get_xaxis().set_visible(False)\n",
    "    ax1.get_yaxis().set_visible(False)\n",
    "\n",
    "    # Attribution\n",
    "    if attr_x is not None:\n",
    "        max_abs_attr = np.max(np.abs(attr_x))\n",
    "        attr_yrange = (-max_abs_attr * 1.55, max_abs_attr * 1.55)\n",
    "        ax2.set_ylim(*attr_yrange)\n",
    "        ax2.plot(attr_x.squeeze(), c=ATTR_COLOR, alpha=ATTR_ALPHA, linewidth=ATTR_LW)\n",
    "        # ax2.set_ylabel(\"Attribution value\", color=ATTR_COLOR)\n",
    "        ax2.get_xaxis().set_visible(False)\n",
    "        ax2.get_yaxis().set_visible(False)\n",
    "\n",
    "    # Beat spans\n",
    "    if beat_spans is not None:\n",
    "        for class_idx, class_span in beat_spans.items():\n",
    "            for span in class_span:\n",
    "                if class_idx == 1:\n",
    "                    ax2.fill_between(np.arange(*span), attr_yrange[0], attr_yrange[1], color=(221/256,238/256,254/256))\n",
    "                elif class_idx == 2:\n",
    "                    ax2.fill_between(np.arange(*span), attr_yrange[0], attr_yrange[1], color=(233/256,249/256,220/256))\n",
    "                ax1.axvline(span[0], alpha=0.5, c=\"grey\", linestyle=\"--\")\n",
    "        \n",
    "    label = label_index[y]\n",
    "    plt.title(f\"Label: {label}, Prob: {prob:.6f}\")\n",
    "\n",
    "    ax1.set_zorder(ax2.get_zorder() + 1)\n",
    "    ax1.set_frame_on(False)\n",
    "    ax1.margins(x=0)\n",
    "    ax2.margins(x=0)\n",
    "    \n",
    "    plt.tight_layout()\n",
    "    if path is not None:\n",
    "        plt.savefig(path)\n",
    "    else:\n",
    "        plt.show()\n",
    "    plt.close()"
   ]
  },
  {
   "cell_type": "markdown",
   "metadata": {},
   "source": [
    "### 1. plot ECG recording from raw data (including normal ecg)"
   ]
  },
  {
   "cell_type": "code",
   "execution_count": null,
   "metadata": {},
   "outputs": [],
   "source": [
    "DATASET_NAME = \"mitdb\" # mitdb, svdb, incartdb만 가능\n",
    "DATA_PATH = f\"dataset/data/{DATASET_NAME}.pkl\""
   ]
  },
  {
   "cell_type": "code",
   "execution_count": null,
   "metadata": {},
   "outputs": [],
   "source": [
    "data_dict = pickle.load(gzip.GzipFile(DATA_PATH, \"rb\"))"
   ]
  },
  {
   "cell_type": "code",
   "execution_count": null,
   "metadata": {},
   "outputs": [],
   "source": [
    "train_set, test_set = data_dict[\"train\"], data_dict[\"test\"]\n",
    "x_test = np.expand_dims(preprocess(test_set[\"X\"]), axis=(1, 2))\n",
    "y_test, y_raw_test = np.array([Y[\"y\"] for Y in test_set[\"Y\"]]), [\n",
    "    Y[\"y_raw\"] for Y in test_set[\"Y\"]\n",
    "]"
   ]
  },
  {
   "cell_type": "code",
   "execution_count": null,
   "metadata": {},
   "outputs": [],
   "source": [
    "for idx in range(len(y_raw_test)):\n",
    "    y_raw = y_raw_test[idx]\n",
    "    if len(y_raw[1]) > 0 and len(y_raw[2]) > 0:\n",
    "        # if len(y_raw[1]) > 0:\n",
    "        print(idx)"
   ]
  },
  {
   "cell_type": "code",
   "execution_count": null,
   "metadata": {},
   "outputs": [],
   "source": [
    "idx = 2011"
   ]
  },
  {
   "cell_type": "code",
   "execution_count": null,
   "metadata": {},
   "outputs": [],
   "source": [
    "x, y = x_test[idx], y_test[idx]\n",
    "beat_spans = get_beat_spans(y_raw_test[idx], x.shape[-1], DATASET_NAME)"
   ]
  },
  {
   "cell_type": "code",
   "execution_count": null,
   "metadata": {},
   "outputs": [],
   "source": [
    "plot_attribution(x, y, beat_spans, 0, None, DATASET_NAME, f\"{DATASET_NAME}_test_{idx}.png\")"
   ]
  },
  {
   "cell_type": "markdown",
   "metadata": {},
   "source": [
    "### 2. plot attribution using pre-processed dataset"
   ]
  },
  {
   "cell_type": "code",
   "execution_count": null,
   "metadata": {},
   "outputs": [],
   "source": [
    "DATASET_NAME = \"mitdb\" # mitdb, svdb, incartdb만 가능\n",
    "attr_list = [\"random_baseline\", \"saliency\", \"input_gradient\", \"guided_backprop\", \"integrated_gradients\", \"deep_lift\", \"deep_shap\", \"lrp\", \"lime\", \"kernel_shap\", \"gradcam\", \"guided_gradcam\"]\n",
    "attr_method = \"integrated_gradients\"\n",
    "absolute = True"
   ]
  },
  {
   "cell_type": "code",
   "execution_count": null,
   "metadata": {},
   "outputs": [],
   "source": [
    "args = argparse.Namespace()\n",
    "args.attr_dir = f\"results_final_231123/results_attribution/mitdb_resnet18_7_bs32_lr5e-2_wd1e-4_ep20_seed1/{attr_method}\"\n",
    "args.model_path = \"results_final_231123/results_training/mitdb_resnet18_7_bs32_lr5e-2_wd1e-4_ep20_seed1/model_last.pt\"\n",
    "args.absolute = absolute\n",
    "args.gpu_num = 1\n",
    "args.seed = 1\n",
    "args.result_dir = \"./figures_plot_attribution\""
   ]
  },
  {
   "cell_type": "code",
   "execution_count": null,
   "metadata": {},
   "outputs": [],
   "source": [
    "os.makedirs(args.result_dir, exist_ok=True)\n",
    "device = setup(args)\n",
    "model = torch.load(args.model_path, map_location=device)\n",
    "\n",
    "# load eval_attr_data & feature attribution\n",
    "eval_attr_data = pickle.load(gzip.GzipFile(f\"{args.attr_dir}/eval_attr_data.pkl\", \"rb\"))\n",
    "attr_list = pickle.load(gzip.GzipFile(f\"{args.attr_dir}/attr_list.pkl\", \"rb\"))"
   ]
  },
  {
   "cell_type": "code",
   "execution_count": null,
   "metadata": {},
   "outputs": [],
   "source": [
    "idx = 126"
   ]
  },
  {
   "cell_type": "code",
   "execution_count": null,
   "metadata": {},
   "outputs": [],
   "source": [
    "x, y, beat_spans, prob = (\n",
    "    eval_attr_data[\"x\"][idx],\n",
    "    eval_attr_data[\"y\"][idx],\n",
    "    eval_attr_data[\"beat_spans\"][idx],\n",
    "    eval_attr_data[\"prob\"][idx],\n",
    ")\n",
    "attr_x = attr_list[idx]\n",
    "if args.absolute:\n",
    "    attr_x = np.absolute(attr_x)"
   ]
  },
  {
   "cell_type": "code",
   "execution_count": null,
   "metadata": {},
   "outputs": [],
   "source": [
    "if args.absolute:\n",
    "    save_filename = f\"{args.result_dir}/mitdb_eval_attr_{attr_method}_{idx}_abs.png\"\n",
    "else:\n",
    "    save_filename = f\"{args.result_dir}/mitdb_eval_attr_{attr_method}_{idx}.png\"\n",
    "    \n",
    "plot_attribution(x, y, beat_spans, prob, attr_x, DATASET_NAME, save_filename)\n",
    "# plot_attribution(x, y, beat_spans, prob, None, DATASET_NAME, f\"{args.result_dir}/mitdb_eval_attr_{idx}.png\")"
   ]
  },
  {
   "cell_type": "code",
   "execution_count": null,
   "metadata": {},
   "outputs": [],
   "source": [
    "save_filename = f\"{args.result_dir}/mitdb_eval_attr_{idx}.png\"\n",
    "plot_attribution(x, y, None, 0, None, DATASET_NAME, save_filename)"
   ]
  },
  {
   "cell_type": "code",
   "execution_count": null,
   "metadata": {},
   "outputs": [],
   "source": []
  }
 ],
 "metadata": {
  "kernelspec": {
   "display_name": "attribution-ecg",
   "language": "python",
   "name": "python3"
  },
  "language_info": {
   "codemirror_mode": {
    "name": "ipython",
    "version": 3
   },
   "file_extension": ".py",
   "mimetype": "text/x-python",
   "name": "python",
   "nbconvert_exporter": "python",
   "pygments_lexer": "ipython3",
   "version": "3.10.13"
  },
  "orig_nbformat": 4
 },
 "nbformat": 4,
 "nbformat_minor": 2
}
