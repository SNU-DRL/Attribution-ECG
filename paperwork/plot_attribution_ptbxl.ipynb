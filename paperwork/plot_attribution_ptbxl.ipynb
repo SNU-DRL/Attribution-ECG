{
 "cells": [
  {
   "cell_type": "code",
   "execution_count": null,
   "metadata": {},
   "outputs": [],
   "source": [
    "import gzip\n",
    "import os\n",
    "import pickle\n",
    "\n",
    "import matplotlib.offsetbox as offsetbox\n",
    "import matplotlib.pyplot as plt\n",
    "import numpy as np\n",
    "import pandas as pd\n",
    "\n",
    "plt.rcParams['font.family'] = 'Arial'\n",
    "\n",
    "\n",
    "ATTR_STR_DICT = {\n",
    "    \"random_baseline\": \"Random (baseline)\",\n",
    "    \"saliency\": \"Saliency\",\n",
    "    \"input_gradient\": \"Input × Gradient\",\n",
    "    \"guided_backprop\": \"Guided Backprop\",\n",
    "    \"integrated_gradients\": \"Integrated Gradients\",\n",
    "    \"deep_lift\": \"DeepLIFT\",\n",
    "    \"deep_shap\": \"DeepSHAP\",\n",
    "    \"lrp\": \"LRP\",\n",
    "    \"lime\": \"LIME\",\n",
    "    \"kernel_shap\": \"KernelSHAP\",\n",
    "    \"gradcam\": \"Grad-CAM\",\n",
    "    \"guided_gradcam\": \"Guided Grad-CAM\",\n",
    "}\n",
    "\n",
    "ABS_SIGN = \"°\"\n",
    "\n",
    "ATTR_FIGSIZE = (40, 13)\n",
    "ECG_COLOR = \"darkblue\"\n",
    "ECG_LW = 3\n",
    "ATTR_COLOR = \"crimson\"\n",
    "ATTR_ALPHA = 0.55\n",
    "ATTR_LW = 4\n"
   ]
  },
  {
   "cell_type": "code",
   "execution_count": null,
   "metadata": {},
   "outputs": [],
   "source": [
    "\n",
    "def get_plot_range(min_value, max_value, coff=1):\n",
    "    baseline_value = (min_value + max_value) / 2\n",
    "    amplitude = max_value - baseline_value\n",
    "    plot_range = (baseline_value - amplitude * coff, baseline_value + amplitude * coff)\n",
    "    return plot_range"
   ]
  },
  {
   "cell_type": "code",
   "execution_count": null,
   "metadata": {},
   "outputs": [],
   "source": [
    "label_mapping_df = pd.read_csv(\"ptb-xl/label_selection/label_mapping.csv\", index_col=0)"
   ]
  },
  {
   "cell_type": "code",
   "execution_count": null,
   "metadata": {},
   "outputs": [],
   "source": [
    "attr_method = \"guided_gradcam\"\n",
    "DATA_PATH = f\"results_for_paper/results_attribution/ptbxl_resnet18_7_bs32_lr1e-4_wd1e-4_ep10_seed0/{attr_method}\"\n",
    "class_indices = os.listdir(DATA_PATH)"
   ]
  },
  {
   "cell_type": "code",
   "execution_count": null,
   "metadata": {},
   "outputs": [],
   "source": [
    "# for class_idx in class_indices:\n",
    "class_idx = 0\n",
    "attr_absolute = True"
   ]
  },
  {
   "cell_type": "code",
   "execution_count": null,
   "metadata": {},
   "outputs": [],
   "source": [
    "attr_dir = f\"{DATA_PATH}/{class_idx}\""
   ]
  },
  {
   "cell_type": "code",
   "execution_count": null,
   "metadata": {},
   "outputs": [],
   "source": [
    "# load eval_attr_data & feature attribution\n",
    "eval_attr_data = pickle.load(gzip.GzipFile(f\"{attr_dir}/eval_attr_data.pkl\", \"rb\"))\n",
    "attr_list = pickle.load(gzip.GzipFile(f\"{attr_dir}/attr_list.pkl\", \"rb\"))"
   ]
  },
  {
   "cell_type": "code",
   "execution_count": null,
   "metadata": {},
   "outputs": [],
   "source": [
    "sample_idx = 7"
   ]
  },
  {
   "cell_type": "code",
   "execution_count": null,
   "metadata": {},
   "outputs": [],
   "source": [
    "sample_id, x, y, beat_spans, prob = (\n",
    "    eval_attr_data[\"id\"][sample_idx],\n",
    "    eval_attr_data[\"x\"][sample_idx],\n",
    "    eval_attr_data[\"y\"][sample_idx],\n",
    "    eval_attr_data[\"beat_spans\"][sample_idx],\n",
    "    eval_attr_data[\"prob\"][sample_idx],\n",
    ")\n",
    "attr_x = attr_list[sample_idx]\n",
    "\n",
    "if attr_absolute:\n",
    "    attr_x = np.absolute(attr_x)"
   ]
  },
  {
   "cell_type": "code",
   "execution_count": null,
   "metadata": {},
   "outputs": [],
   "source": [
    "num_channels = x.shape[-2]"
   ]
  },
  {
   "cell_type": "code",
   "execution_count": null,
   "metadata": {},
   "outputs": [],
   "source": [
    "fig, axs = plt.subplots(num_channels, 1, figsize=ATTR_FIGSIZE)\n",
    "\n",
    "for channel_idx in range(num_channels):\n",
    "    ax1 = axs[channel_idx]\n",
    "    ax2 = ax1.twinx()\n",
    "    \n",
    "    # ECG\n",
    "    ecg_yrange = get_plot_range(np.min(x), np.max(x), 1.55)\n",
    "    ax1.set_ylim(*ecg_yrange)\n",
    "    ax1.plot(x.squeeze()[channel_idx], c=ECG_COLOR, linewidth=ECG_LW)\n",
    "    # ax1.set_ylabel(\"ECG signal\", color=ECG_COLOR)\n",
    "    ax1.get_xaxis().set_visible(False)\n",
    "    ax1.set_yticks([])\n",
    "    if channel_idx == 0:\n",
    "        ax1.set_ylabel(\"Lead I\", fontdict={\"size\": 28})\n",
    "    else:\n",
    "        ax1.set_ylabel(\"Lead II\", fontdict={\"size\": 28})\n",
    "    # ax1.get_yaxis().set_visible(False)\n",
    "\n",
    "    # Attribution\n",
    "    max_abs_attr = np.max(np.abs(attr_x))\n",
    "    attr_yrange = (-max_abs_attr * 1.55, max_abs_attr * 1.55)\n",
    "    ax2.set_ylim(*attr_yrange)\n",
    "    ax2.plot(attr_x.squeeze()[channel_idx], c=ATTR_COLOR, alpha=ATTR_ALPHA, linewidth=ATTR_LW)\n",
    "    # ax2.set_ylabel(\"Attribution value\", color=ATTR_COLOR)\n",
    "    ax2.get_xaxis().set_visible(False)\n",
    "    ax2.get_yaxis().set_visible(False)\n",
    "    \n",
    "    text_label = ATTR_STR_DICT[attr_method]\n",
    "    if attr_absolute:\n",
    "        text_label += ABS_SIGN\n",
    "\n",
    "    label_string = r\"\"\n",
    "    for idx, row in label_mapping_df.loc[y==1].iterrows():\n",
    "        if idx == class_idx:\n",
    "            label_string += r\"$\\bf{%s}$\" % '\\ '.join(row[\"Dx\"].split())\n",
    "        else:\n",
    "            label_string += row[\"Dx\"]\n",
    "        label_string += r\", \"\n",
    "    label_string = label_string[:-2]\n",
    "    \n",
    "    ax1.set_zorder(ax2.get_zorder() + 1)\n",
    "    ax1.set_frame_on(False)\n",
    "\n",
    "    ob = offsetbox.AnchoredText(label_string, loc=\"upper left\", prop=dict(size=28))\n",
    "    ob.patch.set(boxstyle='round, pad=0, rounding_size=0.2', facecolor='skyblue', alpha=0.7)\n",
    "    ax1.add_artist(ob)\n",
    "\n",
    "    \n",
    "    ax1.margins(x=0)\n",
    "    ax2.margins(x=0)\n",
    "\n",
    "plt.tight_layout()\n",
    "plt.subplots_adjust(hspace=0.15)\n"
   ]
  },
  {
   "cell_type": "code",
   "execution_count": null,
   "metadata": {},
   "outputs": [],
   "source": [
    "print(sample_id)"
   ]
  },
  {
   "cell_type": "code",
   "execution_count": null,
   "metadata": {},
   "outputs": [],
   "source": [
    "plt.close()"
   ]
  },
  {
   "cell_type": "code",
   "execution_count": null,
   "metadata": {},
   "outputs": [],
   "source": []
  }
 ],
 "metadata": {
  "kernelspec": {
   "display_name": "attribution-ecg2",
   "language": "python",
   "name": "python3"
  },
  "language_info": {
   "codemirror_mode": {
    "name": "ipython",
    "version": 3
   },
   "file_extension": ".py",
   "mimetype": "text/x-python",
   "name": "python",
   "nbconvert_exporter": "python",
   "pygments_lexer": "ipython3",
   "version": "3.10.13"
  }
 },
 "nbformat": 4,
 "nbformat_minor": 2
}
