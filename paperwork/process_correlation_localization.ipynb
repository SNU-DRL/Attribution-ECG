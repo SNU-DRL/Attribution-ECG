{
 "cells": [
  {
   "cell_type": "code",
   "execution_count": null,
   "metadata": {},
   "outputs": [],
   "source": [
    "import pandas as pd\n",
    "import os\n",
    "import seaborn as sns\n",
    "import matplotlib.pyplot as plt\n",
    "import matplotlib\n",
    "import numpy as np"
   ]
  },
  {
   "cell_type": "code",
   "execution_count": null,
   "metadata": {},
   "outputs": [],
   "source": [
    "MITDB_RESULT = \"results_evaluation_localization/mitdb_resnet18_7_bs32_lr5e-2_wd1e-4_ep20/_final_results.csv\"\n",
    "mitdb_df_l = pd.read_csv(MITDB_RESULT, index_col=0).drop([\"random_baseline_results\", \"random_baseline_results_absolute\"])\n",
    "SVDB_RESULT = \"results_evaluation_localization/svdb_resnet18_7_bs32_lr1e-2_wd1e-4_ep20/_final_results.csv\"\n",
    "svdb_df_l = pd.read_csv(SVDB_RESULT, index_col=0).drop([\"random_baseline_results\", \"random_baseline_results_absolute\"])\n",
    "INCARTDB_RESULT = \"results_evaluation_localization/incartdb_resnet18_7_bs32_lr1e-3_wd1e-4_ep20/_final_results.csv\"\n",
    "incartdb_df_l = pd.read_csv(INCARTDB_RESULT, index_col=0).drop([\"random_baseline_results\", \"random_baseline_results_absolute\"])\n",
    "ICENTIA_RESULT = \"results_evaluation_localization/icentia11k_resnet18_7_bs32_lr1e-3_wd1e-4_ep20/_final_results.csv\"\n",
    "icentia_df_l = pd.read_csv(ICENTIA_RESULT, index_col=0).drop([\"random_baseline_results\", \"random_baseline_results_absolute\"])"
   ]
  },
  {
   "cell_type": "markdown",
   "metadata": {},
   "source": [
    "### 6.1. Ranking Consistency"
   ]
  },
  {
   "cell_type": "code",
   "execution_count": null,
   "metadata": {},
   "outputs": [],
   "source": [
    "RESULT_DIR = \"./figures_correlation_localization\"\n",
    "os.makedirs(RESULT_DIR, exist_ok=True)\n",
    "\n",
    "# method = \"pearson\"\n",
    "# method = \"spearman\"\n",
    "method = \"kendall\""
   ]
  },
  {
   "cell_type": "code",
   "execution_count": null,
   "metadata": {},
   "outputs": [],
   "source": [
    "plt.rcParams['font.family'] = 'Arial'\n",
    "plt.rcParams.update({'font.size': 16})"
   ]
  },
  {
   "cell_type": "code",
   "execution_count": null,
   "metadata": {},
   "outputs": [],
   "source": [
    "title_dict = {\n",
    "    \"attribution_localization\": \"Attribution Localization\",\n",
    "    \"relevance_rank_accuracy\": \"Relevance Rank Accuracy\",\n",
    "    \"pointing_game\": \"Pointing Game\",\n",
    "    \"auc\": \"AUC\",\n",
    "}"
   ]
  },
  {
   "cell_type": "code",
   "execution_count": null,
   "metadata": {},
   "outputs": [],
   "source": [
    "metrics_l = [\"attribution_localization\", \"relevance_rank_accuracy\", \"pointing_game\", \"auc\"]\n",
    "\n",
    "dfs_l = {\n",
    "    \"mitdb\": mitdb_df_l,\n",
    "    \"svdb\": svdb_df_l,\n",
    "    \"incartdb\": incartdb_df_l,\n",
    "    \"icentia\": icentia_df_l,\n",
    "}\n",
    "\n",
    "metric_results_l = {metric: pd.concat([mitdb_df_l[f\"{metric}_mean\"].rename(\"MITDB\"), svdb_df_l[f\"{metric}_mean\"].rename(\"SVDB\"), incartdb_df_l[f\"{metric}_mean\"].rename(\"INCARTDB\"), icentia_df_l[f\"{metric}_mean\"].rename(\"ICENTIA11K\")], axis=1) for metric in metrics_l}"
   ]
  },
  {
   "cell_type": "code",
   "execution_count": null,
   "metadata": {},
   "outputs": [],
   "source": [
    "fig, axs = plt.subplots(nrows=2, ncols=2, figsize=(16, 17.5))\n",
    "cmap = matplotlib.colormaps.get_cmap(\"viridis\")\n",
    "\n",
    "for idx, metric in enumerate(metrics_l):\n",
    "    corr_matrix = metric_results_l[metric].corr(method=method)\n",
    "    # corr_matrix = metric_results_l[metric][[not (\"absolute\" in s) for s in metric_results_l[metric].index]].corr(method=method)\n",
    "    up_triang = np.triu(np.ones_like(corr_matrix)).astype(bool)\n",
    "    ax = axs[idx//2][idx%2]\n",
    "    sns.heatmap(corr_matrix, vmin=0, vmax=1, cmap=\"viridis\", fmt=\".3f\", annot=True, mask=up_triang, ax=ax, cbar=False, annot_kws={\"size\": 22})\n",
    "    mean_corr = np.mean(corr_matrix.to_numpy()[up_triang==False])\n",
    "    ax.text(1.75, 1.5, f\"{mean_corr:.3f}\", fontsize=26, color=(\"w\" if mean_corr <= 0.712 else \"k\"), bbox=dict(facecolor=cmap(mean_corr), boxstyle=\"round,pad=0.5\", edgecolor=\"none\"))\n",
    "    ax.set_title(title_dict[metric], fontsize=30)\n",
    "\n",
    "fig.tight_layout()\n",
    "fig.subplots_adjust(hspace=0.22)\n",
    "\n",
    "plt.savefig(os.path.join(RESULT_DIR, f\"corrleation_{method}.png\"))"
   ]
  },
  {
   "cell_type": "code",
   "execution_count": null,
   "metadata": {},
   "outputs": [],
   "source": [
    "fig = plt.figure(figsize=(5,15))\n",
    "sns.heatmap([[0,1],[1,0]], vmin=0, vmax=1, cmap=\"viridis\", fmt=\".3f\", annot=True, cbar=True)\n",
    "plt.tight_layout()\n",
    "plt.savefig(os.path.join(RESULT_DIR, f\"cbar.png\"))"
   ]
  },
  {
   "cell_type": "markdown",
   "metadata": {},
   "source": [
    "### 6.2. Inter-metric correlation"
   ]
  },
  {
   "cell_type": "code",
   "execution_count": null,
   "metadata": {},
   "outputs": [],
   "source": [
    "RESULT_DIR = \"figures_metrics_correlation_localization\"\n",
    "os.makedirs(RESULT_DIR, exist_ok=True)"
   ]
  },
  {
   "cell_type": "code",
   "execution_count": null,
   "metadata": {},
   "outputs": [],
   "source": [
    "# method = \"pearson\"\n",
    "method = \"spearman\"\n",
    "# method = \"kendall\""
   ]
  },
  {
   "cell_type": "code",
   "execution_count": null,
   "metadata": {},
   "outputs": [],
   "source": [
    "result_dict = {}\n",
    "datasets = [\"MITDB\", \"SVDB\", \"INCARTDB\", \"ICENTIA11K\"]\n",
    "for dataset in datasets:        \n",
    "    dataset_result_l = pd.concat([metric_results_l[metric][dataset] for metric in metrics_l], axis=1, keys=metrics_l)\n",
    "    result_dict[dataset] =dataset_result_l.rename(columns={\"attribution_localization\": \"AL\", \"relevance_rank_accuracy\": \"RRA\", \"pointing_game\": \"PG\", \"auc\": \"AUC\"})"
   ]
  },
  {
   "cell_type": "code",
   "execution_count": null,
   "metadata": {},
   "outputs": [],
   "source": [
    "fig, axs = plt.subplots(nrows=2, ncols=2, figsize=(16, 17.5))\n",
    "cmap = matplotlib.colormaps.get_cmap(\"viridis\")\n",
    "\n",
    "for idx, dataset in enumerate(datasets):\n",
    "    corr_matrix = result_dict[dataset].corr(method=method)\n",
    "    # corr_matrix = result_dict[dataset][[not (\"absolute\" in s) for s in result_dict[dataset].index]].corr(method=method)\n",
    "\n",
    "    up_triang = np.triu(np.ones_like(corr_matrix)).astype(bool)\n",
    "    ax = axs[idx%2][idx//2]\n",
    "    sns.heatmap(corr_matrix, vmin=0, vmax=1, cmap=\"viridis\", fmt=\".3f\", annot=True, mask=up_triang, ax=ax, cbar=False, annot_kws={\"size\": 22})\n",
    "    ax.set_title(dataset, fontsize=30)\n",
    "\n",
    "fig.tight_layout()\n",
    "fig.subplots_adjust(hspace=0.22)\n",
    "plt.savefig(os.path.join(RESULT_DIR, f\"metric_corrleation_{method}.png\"))\n"
   ]
  },
  {
   "cell_type": "code",
   "execution_count": null,
   "metadata": {},
   "outputs": [],
   "source": [
    "fig, axs = plt.subplots(nrows=1, ncols=1, figsize=(8, 8.5))\n",
    "cmap = matplotlib.colormaps.get_cmap(\"viridis\")\n",
    "\n",
    "total_corr_matrix = np.zeros((4,4), dtype=np.float64)\n",
    "\n",
    "for idx, dataset in enumerate(datasets):\n",
    "    corr_matrix = result_dict[dataset].corr(method=method)\n",
    "    total_corr_matrix += corr_matrix\n",
    "    # corr_matrix = result_dict[dataset][[not (\"absolute\" in s) for s in result_dict[dataset].index]].corr(method=method)\n",
    "\n",
    "total_corr_matrix /= 4\n",
    "\n",
    "up_triang = np.triu(np.ones_like(total_corr_matrix)).astype(bool)\n",
    "sns.heatmap(total_corr_matrix, vmin=0, vmax=1, cmap=\"viridis\", fmt=\".3f\", annot=True, mask=up_triang, cbar=False, annot_kws={\"size\": 22})\n",
    "axs.set_title(\"Average\", fontsize=30)\n",
    "\n",
    "fig.tight_layout()\n",
    "fig.subplots_adjust(hspace=0.22)\n",
    "plt.savefig(os.path.join(RESULT_DIR, f\"average_metric_corrleation_{method}.png\"))"
   ]
  },
  {
   "cell_type": "code",
   "execution_count": null,
   "metadata": {},
   "outputs": [],
   "source": []
  }
 ],
 "metadata": {
  "kernelspec": {
   "display_name": "attribution-ecg",
   "language": "python",
   "name": "python3"
  },
  "language_info": {
   "codemirror_mode": {
    "name": "ipython",
    "version": 3
   },
   "file_extension": ".py",
   "mimetype": "text/x-python",
   "name": "python",
   "nbconvert_exporter": "python",
   "pygments_lexer": "ipython3",
   "version": "3.10.13"
  },
  "orig_nbformat": 4
 },
 "nbformat": 4,
 "nbformat_minor": 2
}
