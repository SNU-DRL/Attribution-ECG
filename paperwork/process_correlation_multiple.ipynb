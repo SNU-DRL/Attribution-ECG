{
 "cells": [
  {
   "cell_type": "code",
   "execution_count": null,
   "metadata": {},
   "outputs": [],
   "source": [
    "import pandas as pd\n",
    "import os\n",
    "import seaborn as sns\n",
    "import matplotlib.pyplot as plt\n",
    "import matplotlib\n",
    "import numpy as np"
   ]
  },
  {
   "cell_type": "code",
   "execution_count": null,
   "metadata": {},
   "outputs": [],
   "source": [
    "RESULT_DIR = \"./figures_correlation\"\n",
    "os.makedirs(RESULT_DIR, exist_ok=True)\n",
    "\n",
    "# method = \"pearson\"\n",
    "# method = \"spearman\"\n",
    "method = \"kendall\""
   ]
  },
  {
   "cell_type": "code",
   "execution_count": null,
   "metadata": {},
   "outputs": [],
   "source": [
    "plt.rcParams['font.family'] = 'Arial'\n",
    "plt.rcParams.update({'font.size': 16})"
   ]
  },
  {
   "cell_type": "code",
   "execution_count": null,
   "metadata": {},
   "outputs": [],
   "source": [
    "title_dict = {\n",
    "    \"attribution_localization\": \"Attribution Localization\",\n",
    "    \"auc\": \"AUC\",\n",
    "    \"pointing_game\": \"Pointing Game\",\n",
    "    \"relevance_rank_accuracy\": \"Relevance Rank Accuracy\",\n",
    "    \"region_perturbation_morf\": \"Region Perturbation (MoRF)\",\n",
    "    \"region_perturbation_lerf\": \"Region Perturbation (LeRF)\",\n",
    "    \"faithfulness_correlation\": \"Faithfulness Correlation\"\n",
    "}"
   ]
  },
  {
   "cell_type": "code",
   "execution_count": null,
   "metadata": {},
   "outputs": [],
   "source": [
    "MITDB_RESULT = \"results_evaluation_localization/mitdb_resnet18_7_bs32_lr5e-2_wd1e-4_ep20/_final_results.csv\"\n",
    "mitdb_df_l = pd.read_csv(MITDB_RESULT, index_col=0)\n",
    "SVDB_RESULT = \"results_evaluation_localization/svdb_resnet18_7_bs32_lr1e-2_wd1e-4_ep20/_final_results.csv\"\n",
    "svdb_df_l = pd.read_csv(SVDB_RESULT, index_col=0)\n",
    "INCARTDB_RESULT = \"results_evaluation_localization/incartdb_resnet18_7_bs32_lr1e-3_wd1e-4_ep20/_final_results.csv\"\n",
    "incartdb_df_l = pd.read_csv(INCARTDB_RESULT, index_col=0)\n",
    "ICENTIA_RESULT = \"results_evaluation_localization/icentia11k_resnet18_7_bs32_lr1e-3_wd1e-4_ep20/_final_results.csv\"\n",
    "icentia_df_l = pd.read_csv(ICENTIA_RESULT, index_col=0)\n",
    "\n",
    "MITDB_RESULT_F = \"results_evaluation_faithfulness/mitdb_resnet18_7_bs32_lr5e-2_wd1e-4_ep20/_final_results.csv\"\n",
    "mitdb_df_f = pd.read_csv(MITDB_RESULT_F, index_col=0)\n",
    "SVDB_RESULT_F = \"results_evaluation_faithfulness/svdb_resnet18_7_bs32_lr1e-2_wd1e-4_ep20/_final_results.csv\"\n",
    "svdb_df_f = pd.read_csv(SVDB_RESULT_F, index_col=0)\n",
    "INCARTDB_RESULT_F = \"results_evaluation_faithfulness/incartdb_resnet18_7_bs32_lr1e-3_wd1e-4_ep20/_final_results.csv\"\n",
    "incartdb_df_f = pd.read_csv(INCARTDB_RESULT_F, index_col=0)\n",
    "ICENTIA_RESULT_F = \"results_evaluation_faithfulness/icentia11k_resnet18_7_bs32_lr1e-3_wd1e-4_ep20/_final_results.csv\"\n",
    "icentia_df_f = pd.read_csv(ICENTIA_RESULT_F, index_col=0)\n",
    "\n",
    "\n",
    "metrics_l = [\"attribution_localization\", \"auc\", \"pointing_game\", \"relevance_rank_accuracy\"]\n",
    "metrics_f = [\"region_perturbation_morf\", \"region_perturbation_lerf\", \"faithfulness_correlation\"]\n",
    "\n",
    "dfs_l = {\n",
    "    \"mitdb\": mitdb_df_l,\n",
    "    \"svdb\": svdb_df_l,\n",
    "    \"incartdb\": incartdb_df_l,\n",
    "    \"icentia\": icentia_df_l,\n",
    "}\n",
    "\n",
    "dfs_f = {\n",
    "    \"mitdb\": mitdb_df_f,\n",
    "    \"svdb\": svdb_df_f,\n",
    "    \"incartdb\": incartdb_df_f,\n",
    "    \"icentia\": icentia_df_f,\n",
    "}\n",
    "\n",
    "metric_results_l = {metric: pd.concat([mitdb_df_l[f\"{metric}_mean\"].rename(\"MITDB\"), svdb_df_l[f\"{metric}_mean\"].rename(\"SVDB\"), incartdb_df_l[f\"{metric}_mean\"].rename(\"INCARTDB\"), icentia_df_l[f\"{metric}_mean\"].rename(\"ICENTIA11K\")], axis=1) for metric in metrics_l}\n",
    "\n",
    "metric_results_f = {metric: pd.concat([\n",
    "    mitdb_df_f[f\"{metric}_mean\"].rename(\"MITDB\"),\n",
    "    svdb_df_f[f\"{metric}_mean\"].rename(\"SVDB\"),\n",
    "    incartdb_df_f[f\"{metric}_mean\"].rename(\"INCARTDB\"),\n",
    "    icentia_df_f[f\"{metric}_mean\"].rename(\"ICENTIA11K\")\n",
    "], axis=1) for metric in metrics_f}\n"
   ]
  },
  {
   "cell_type": "code",
   "execution_count": null,
   "metadata": {},
   "outputs": [],
   "source": [
    "fig, axs = plt.subplots(nrows=2, ncols=4, figsize=(30, 16.6))\n",
    "cmap = matplotlib.colormaps.get_cmap(\"viridis\")\n",
    "\n",
    "for idx, metric in enumerate(metrics_l):\n",
    "    corr_matrix = metric_results_l[metric].corr(method=method)\n",
    "    # corr_matrix = metric_results_l[metric][[not (\"absolute\" in s) for s in metric_results_l[metric].index]].corr(method=method)\n",
    "    up_triang = np.triu(np.ones_like(corr_matrix)).astype(bool)\n",
    "    ax = axs[idx%2][idx//2]\n",
    "    sns.heatmap(corr_matrix, vmin=0, vmax=1, cmap=\"viridis\", fmt=\".3f\", annot=True, mask=up_triang, ax=ax, cbar=False, annot_kws={\"size\": 22})\n",
    "    mean_corr = np.mean(corr_matrix.to_numpy()[up_triang==False])\n",
    "    ax.text(2, 1.5, f\"{mean_corr:.3f}\", fontsize=26, color=(\"w\" if mean_corr <= 0.712 else \"k\"), bbox=dict(facecolor=cmap(mean_corr), boxstyle=\"round,pad=0.5\", edgecolor=\"none\"))\n",
    "    ax.set_title(title_dict[metric], fontsize=30)\n",
    "    \n",
    "for idx, metric in enumerate(metrics_f):\n",
    "    corr_matrix = metric_results_f[metric].corr(method=method)\n",
    "    # corr_matrix = metric_results_f[metric][[not (\"absolute\" in s) for s in metric_results_f[metric].index]].corr(method=method)\n",
    "    up_triang = np.triu(np.ones_like(corr_matrix)).astype(bool)\n",
    "    ax = axs[idx%2][idx//2+2]\n",
    "    sns.heatmap(corr_matrix, vmin=0, vmax=1, cmap=\"viridis\", fmt=\".3f\", annot=True, mask=up_triang, ax=ax, cbar=False, annot_kws={\"size\": 22})\n",
    "    mean_corr = np.mean(corr_matrix.to_numpy()[up_triang==False])\n",
    "    ax.text(2, 1.5, f\"{mean_corr:.3f}\", fontsize=26, color=(\"w\" if mean_corr <= 0.715 else \"k\"), bbox=dict(facecolor=cmap(mean_corr), boxstyle=\"round,pad=0.5\", edgecolor=\"none\"))\n",
    "    ax.set_title(title_dict[metric], fontsize=30)\n",
    "\n",
    "axs[1,3].axis(\"off\")\n",
    "# # plt.show()\n",
    "fig.tight_layout()\n",
    "fig.subplots_adjust(hspace=0.22)\n",
    "\n",
    "plt.savefig(os.path.join(RESULT_DIR, f\"corrleation_{method}.png\"))"
   ]
  },
  {
   "cell_type": "code",
   "execution_count": null,
   "metadata": {},
   "outputs": [],
   "source": [
    "fig = plt.figure(figsize=(5,15))\n",
    "sns.heatmap([[0,1],[1,0]], vmin=0, vmax=1, cmap=\"viridis\", fmt=\".3f\", annot=True, cbar=True)\n",
    "plt.tight_layout()\n",
    "plt.savefig(os.path.join(RESULT_DIR, f\"cbar.png\"))"
   ]
  },
  {
   "cell_type": "code",
   "execution_count": null,
   "metadata": {},
   "outputs": [],
   "source": [
    "# method = \"pearson\"\n",
    "# method = \"spearman\"\n",
    "method = \"kendall\""
   ]
  },
  {
   "cell_type": "code",
   "execution_count": null,
   "metadata": {},
   "outputs": [],
   "source": [
    "result_dict = {}\n",
    "datasets = [\"MITDB\", \"SVDB\", \"INCARTDB\", \"ICENTIA11K\"]\n",
    "metrics = metrics_l + metrics_f\n",
    "for dataset in datasets:        \n",
    "    dataset_result_l = pd.concat([metric_results_l[metric][dataset] for metric in metrics_l], axis=1, keys=metrics_l)\n",
    "    dataset_result_f = pd.concat([metric_results_f[metric][dataset] for metric in metrics_f], axis=1, keys=metrics_f)\n",
    "    dataset_result_f[\"region_perturbation_lerf\"] = dataset_result_f[\"region_perturbation_lerf\"] * -1\n",
    "    result_dict[dataset] = pd.concat([dataset_result_l, dataset_result_f], axis=1)"
   ]
  },
  {
   "cell_type": "code",
   "execution_count": null,
   "metadata": {},
   "outputs": [],
   "source": [
    "fig, axs = plt.subplots(nrows=2, ncols=2, figsize=(22, 22))\n",
    "cmap = matplotlib.colormaps.get_cmap(\"viridis\")\n",
    "\n",
    "for idx, dataset in enumerate(datasets):\n",
    "    corr_matrix = result_dict[dataset].corr(method=method)\n",
    "    # corr_matrix = result_dict[dataset][[not (\"absolute\" in s) for s in result_dict[dataset].index]].corr(method=method)\n",
    "\n",
    "    up_triang = np.triu(np.ones_like(corr_matrix)).astype(bool)\n",
    "    ax = axs[idx%2][idx//2]\n",
    "    g = sns.heatmap(corr_matrix, vmin=0, vmax=1, cmap=\"viridis\", fmt=\".3f\", annot=True, mask=up_triang, ax=ax, cbar=False, annot_kws={\"size\": 18})\n",
    "    g.set_xticklabels(g.get_xticklabels(), rotation=45, ha=\"right\")\n",
    "    ax.set_title(dataset, fontsize=24)\n",
    "\n",
    "fig.tight_layout()\n",
    "# fig.subplots_adjust(hspace=0.22)\n",
    "plt.savefig(os.path.join(RESULT_DIR, f\"metric_corrleation_{method}.png\"))"
   ]
  },
  {
   "cell_type": "code",
   "execution_count": null,
   "metadata": {},
   "outputs": [],
   "source": []
  }
 ],
 "metadata": {
  "kernelspec": {
   "display_name": "attribution-ecg",
   "language": "python",
   "name": "python3"
  },
  "language_info": {
   "codemirror_mode": {
    "name": "ipython",
    "version": 3
   },
   "file_extension": ".py",
   "mimetype": "text/x-python",
   "name": "python",
   "nbconvert_exporter": "python",
   "pygments_lexer": "ipython3",
   "version": "3.10.13"
  },
  "orig_nbformat": 4
 },
 "nbformat": 4,
 "nbformat_minor": 2
}
